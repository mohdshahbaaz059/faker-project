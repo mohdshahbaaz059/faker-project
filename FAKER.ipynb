{
  "nbformat": 4,
  "nbformat_minor": 0,
  "metadata": {
    "colab": {
      "provenance": [],
      "authorship_tag": "ABX9TyNl3j5CMcRSXApkuFPr9As/",
      "include_colab_link": true
    },
    "kernelspec": {
      "name": "python3",
      "display_name": "Python 3"
    },
    "language_info": {
      "name": "python"
    }
  },
  "cells": [
    {
      "cell_type": "markdown",
      "metadata": {
        "id": "view-in-github",
        "colab_type": "text"
      },
      "source": [
        "<a href=\"https://colab.research.google.com/github/mohdshahbaaz059/faker-project/blob/main/FAKER.ipynb\" target=\"_parent\"><img src=\"https://colab.research.google.com/assets/colab-badge.svg\" alt=\"Open In Colab\"/></a>"
      ]
    },
    {
      "cell_type": "code",
      "source": [
        "pip install faker"
      ],
      "metadata": {
        "colab": {
          "base_uri": "https://localhost:8080/"
        },
        "id": "c1xGz_dPv21W",
        "outputId": "1a8e33c7-4ddc-458d-c52d-c29da516dfa0"
      },
      "execution_count": 3,
      "outputs": [
        {
          "output_type": "stream",
          "name": "stdout",
          "text": [
            "Collecting faker\n",
            "  Downloading Faker-24.3.0-py3-none-any.whl (1.8 MB)\n",
            "\u001b[?25l     \u001b[90m━━━━━━━━━━━━━━━━━━━━━━━━━━━━━━━━━━━━━━━━\u001b[0m \u001b[32m0.0/1.8 MB\u001b[0m \u001b[31m?\u001b[0m eta \u001b[36m-:--:--\u001b[0m\r\u001b[2K     \u001b[91m━━━\u001b[0m\u001b[91m╸\u001b[0m\u001b[90m━━━━━━━━━━━━━━━━━━━━━━━━━━━━━━━━━━━━\u001b[0m \u001b[32m0.2/1.8 MB\u001b[0m \u001b[31m5.2 MB/s\u001b[0m eta \u001b[36m0:00:01\u001b[0m\r\u001b[2K     \u001b[91m━━━━━━━━━━━━━━━━━━━━━━━━━━━━━━━━━━━━━━━\u001b[0m\u001b[91m╸\u001b[0m \u001b[32m1.8/1.8 MB\u001b[0m \u001b[31m25.7 MB/s\u001b[0m eta \u001b[36m0:00:01\u001b[0m\r\u001b[2K     \u001b[90m━━━━━━━━━━━━━━━━━━━━━━━━━━━━━━━━━━━━━━━━\u001b[0m \u001b[32m1.8/1.8 MB\u001b[0m \u001b[31m19.8 MB/s\u001b[0m eta \u001b[36m0:00:00\u001b[0m\n",
            "\u001b[?25hRequirement already satisfied: python-dateutil>=2.4 in /usr/local/lib/python3.10/dist-packages (from faker) (2.8.2)\n",
            "Requirement already satisfied: six>=1.5 in /usr/local/lib/python3.10/dist-packages (from python-dateutil>=2.4->faker) (1.16.0)\n",
            "Installing collected packages: faker\n",
            "Successfully installed faker-24.3.0\n"
          ]
        }
      ]
    },
    {
      "cell_type": "markdown",
      "source": [
        "***FAKE FAKER NAME GENERATE***"
      ],
      "metadata": {
        "id": "oHWAuX8lzU_r"
      }
    },
    {
      "cell_type": "code",
      "source": [
        "from faker import Faker\n",
        "\n",
        "# Create a Faker Object\n",
        "faker = Faker()\n",
        "\n",
        "# Generate a fake name\n",
        "fake_name = faker.name()\n",
        "print(\"Fake Name\",fake_name)"
      ],
      "metadata": {
        "colab": {
          "base_uri": "https://localhost:8080/"
        },
        "id": "TlBwy8pjwEv_",
        "outputId": "728d2310-c751-4b55-bb69-dbaa41fcae3c"
      },
      "execution_count": 6,
      "outputs": [
        {
          "output_type": "stream",
          "name": "stdout",
          "text": [
            "Fake Name Dennis Cisneros\n"
          ]
        }
      ]
    },
    {
      "cell_type": "markdown",
      "source": [
        "***FAKE NAME GENERATING***"
      ],
      "metadata": {
        "id": "ZDVaBgfdwpNb"
      }
    },
    {
      "cell_type": "code",
      "execution_count": 5,
      "metadata": {
        "colab": {
          "base_uri": "https://localhost:8080/"
        },
        "id": "ru5llG61twHG",
        "outputId": "140bff67-ff44-4f67-9db7-459997f48b95"
      },
      "outputs": [
        {
          "output_type": "stream",
          "name": "stdout",
          "text": [
            "Fake Text:\n",
            " Investment fall cultural show call sing. Blue foreign turn manage its character.\n",
            "Fear identify you good floor simply. However result court inside. Themselves front yourself fund important.\n"
          ]
        }
      ],
      "source": [
        "from faker import Faker\n",
        "\n",
        "# Create a Faker object\n",
        "faker = Faker()\n",
        "\n",
        "\n",
        "#Geneate fake text\n",
        "fake_text = faker.text()\n",
        "print(\"Fake Text:\\n\", fake_text)\n",
        "\n",
        "#MDSHAHABAAZ.COM"
      ]
    },
    {
      "cell_type": "markdown",
      "source": [
        "***FAKER ADDRESSES GENERATING***\n"
      ],
      "metadata": {
        "id": "sNoOH9oxw_qf"
      }
    },
    {
      "cell_type": "code",
      "source": [
        "from faker import Faker\n",
        "\n",
        "# Create a Faker object\n",
        "faker = Faker()\n",
        "\n",
        "#Generat fake address\n",
        "fake_address = faker.address()\n",
        "print(\"Fake Address:\", fake_address)\n",
        "\n",
        "#MDSHAHBAZ.COM"
      ],
      "metadata": {
        "colab": {
          "base_uri": "https://localhost:8080/"
        },
        "id": "TZaserOnw-8_",
        "outputId": "fab23948-75af-4798-abc1-07e047d0ee90"
      },
      "execution_count": 10,
      "outputs": [
        {
          "output_type": "stream",
          "name": "stdout",
          "text": [
            "Fake Address: 319 Jennings Well Apt. 595\n",
            "Lake Crystalmouth, NH 20703\n"
          ]
        }
      ]
    },
    {
      "cell_type": "markdown",
      "source": [
        "***FAKE DATE GENERATE***"
      ],
      "metadata": {
        "id": "SqEvHgwYyOzg"
      }
    },
    {
      "cell_type": "code",
      "source": [
        "from faker import Faker\n",
        "\n",
        "# Create a Faker object\n",
        "faker = Faker()\n",
        "\n",
        "#Generat fake address\n",
        "fake_date = faker.date()\n",
        "print(\"Fake date:\", fake_date)\n",
        "\n",
        "#MDSHAHBAZ.COM"
      ],
      "metadata": {
        "colab": {
          "base_uri": "https://localhost:8080/"
        },
        "id": "UXPE6Cq9yKFk",
        "outputId": "1fc8b986-6836-495b-cf72-d3b8c242d3a7"
      },
      "execution_count": 16,
      "outputs": [
        {
          "output_type": "stream",
          "name": "stdout",
          "text": [
            "Fake date: 2004-04-20\n"
          ]
        }
      ]
    },
    {
      "cell_type": "markdown",
      "source": [
        "***FAKE EMAIL ADDRESS GENERATE***\n"
      ],
      "metadata": {
        "id": "LB_gfrGqy01P"
      }
    },
    {
      "cell_type": "code",
      "source": [
        "from faker import Faker\n",
        "\n",
        "# Create a Faker object\n",
        "faker = Faker()\n",
        "\n",
        "#Generat fake email address\n",
        "fake_email = faker.email()\n",
        "print(\"Fake Email Address:\", fake_email)\n",
        "\n",
        "#MDSHAHBAZ.COM"
      ],
      "metadata": {
        "colab": {
          "base_uri": "https://localhost:8080/"
        },
        "id": "9aVRwGdpy1Cm",
        "outputId": "82cc3e6f-a214-4337-e8f2-724ca5651afc"
      },
      "execution_count": 18,
      "outputs": [
        {
          "output_type": "stream",
          "name": "stdout",
          "text": [
            "Fake Email Address: cjones@example.org\n"
          ]
        }
      ]
    }
  ]
}